{
  "cells": [
    {
      "cell_type": "markdown",
      "metadata": {
        "id": "DP_f8CNn_H9c"
      },
      "source": [
        "# PitchPal AI - Colab Notebook Demo (T5-base Version)"
      ]
    },
    {
      "cell_type": "code",
      "execution_count": 1,
      "metadata": {
        "vscode": {
          "languageId": "plaintext"
        },
        "id": "ORa0Jova_H9f"
      },
      "outputs": [],
      "source": [
        "!pip install transformers streamlit -q"
      ]
    },
    {
      "cell_type": "markdown",
      "source": [
        "# 匯入套件"
      ],
      "metadata": {
        "id": "ilgCcu6DFi2a"
      }
    },
    {
      "cell_type": "code",
      "execution_count": 2,
      "metadata": {
        "vscode": {
          "languageId": "plaintext"
        },
        "id": "0Ef2SsZG_H9h"
      },
      "outputs": [],
      "source": [
        "from transformers import pipeline\n",
        "import pandas as pd"
      ]
    },
    {
      "cell_type": "markdown",
      "source": [
        "# 初始化生成式模型"
      ],
      "metadata": {
        "id": "Hgdd1ZT7BKoW"
      }
    },
    {
      "cell_type": "code",
      "execution_count": 3,
      "metadata": {
        "vscode": {
          "languageId": "plaintext"
        },
        "colab": {
          "base_uri": "https://localhost:8080/"
        },
        "id": "Mv04wERz_H9h",
        "outputId": "33923aae-2af9-4e05-bc13-edcde0919b14"
      },
      "outputs": [
        {
          "output_type": "stream",
          "name": "stderr",
          "text": [
            "/usr/local/lib/python3.11/dist-packages/huggingface_hub/utils/_auth.py:94: UserWarning: \n",
            "The secret `HF_TOKEN` does not exist in your Colab secrets.\n",
            "To authenticate with the Hugging Face Hub, create a token in your settings tab (https://huggingface.co/settings/tokens), set it as secret in your Google Colab and restart your session.\n",
            "You will be able to reuse this secret in all of your notebooks.\n",
            "Please note that authentication is recommended but still optional to access public models or datasets.\n",
            "  warnings.warn(\n",
            "Device set to use cpu\n"
          ]
        }
      ],
      "source": [
        "generator = pipeline(\"text2text-generation\", model=\"t5-base\")"
      ]
    },
    {
      "cell_type": "markdown",
      "source": [
        "# 改進的 Pitch 生成函數"
      ],
      "metadata": {
        "id": "gO-41b_aFpiy"
      }
    },
    {
      "cell_type": "code",
      "source": [
        "def generate_pitch(product_description):\n",
        "    prompt = f\"Write a startup pitch including the product value, problem it solves, customer target, and business model. Product: {product_description}\"\n",
        "    result = generator(prompt, max_length=256, clean_up_tokenization_spaces=True)[0]['generated_text']\n",
        "    return result"
      ],
      "metadata": {
        "id": "Gg4W7RfcFswz"
      },
      "execution_count": 4,
      "outputs": []
    },
    {
      "cell_type": "markdown",
      "source": [
        "# 改進的評分邏輯（更完整的關鍵詞）"
      ],
      "metadata": {
        "id": "FLlvlbgwFtTb"
      }
    },
    {
      "cell_type": "code",
      "source": [
        "def evaluate_pitch_strength(pitch_text):\n",
        "    keywords = ['value', 'problem', 'target', 'user', 'growth', 'plan', 'AI', 'invest', 'solution', 'platform']\n",
        "    score = sum([pitch_text.lower().count(k) for k in keywords])\n",
        "    score = min(score * 10, 100)\n",
        "    return score"
      ],
      "metadata": {
        "id": "6llHGH6ZFvjL"
      },
      "execution_count": 5,
      "outputs": []
    },
    {
      "cell_type": "markdown",
      "source": [
        "# 競品分析模組"
      ],
      "metadata": {
        "id": "_iMw6o-qFyp3"
      }
    },
    {
      "cell_type": "code",
      "source": [
        "def analyze_competitors(csv_path):\n",
        "    try:\n",
        "        df = pd.read_csv(csv_path)\n",
        "        insights = []\n",
        "        for idx, row in df.iterrows():\n",
        "            insights.append(f\"🔍 {row['Brand']} focuses on \\\"{row['USP']}\\\"\")\n",
        "        return insights\n",
        "    except Exception as e:\n",
        "        return [f\"Error loading competitor data: {e}\"]"
      ],
      "metadata": {
        "id": "SOliROERFzU1"
      },
      "execution_count": 6,
      "outputs": []
    },
    {
      "cell_type": "markdown",
      "metadata": {
        "id": "qeA_PiNg_H9i"
      },
      "source": [
        "# 範例產品輸入清單"
      ]
    },
    {
      "cell_type": "code",
      "execution_count": 7,
      "metadata": {
        "vscode": {
          "languageId": "plaintext"
        },
        "id": "q3XRqBty_H9i"
      },
      "outputs": [],
      "source": [
        "product = [\"An automated investment advisor platform tailored for Gen Z users.\"]"
      ]
    },
    {
      "cell_type": "markdown",
      "source": [
        "# 產出 pitch 與評分"
      ],
      "metadata": {
        "id": "P-oYYHuFF_Q7"
      }
    },
    {
      "cell_type": "code",
      "source": [
        "pitch_output = generate_pitch(product)\n",
        "score = evaluate_pitch_strength(pitch_output)"
      ],
      "metadata": {
        "id": "p2luuj1SGBPe"
      },
      "execution_count": 8,
      "outputs": []
    },
    {
      "cell_type": "markdown",
      "source": [
        "# 顯示結果"
      ],
      "metadata": {
        "id": "Kg2mPUq5Bf_R"
      }
    },
    {
      "cell_type": "code",
      "source": [
        "print(\"\\n== Pitch Generated ==\")\n",
        "print(pitch_output)\n",
        "print(f\"\\n🧠 Pitch Persuasiveness Score: {score}/100\")"
      ],
      "metadata": {
        "colab": {
          "base_uri": "https://localhost:8080/"
        },
        "id": "3VvNNl5nBh6u",
        "outputId": "af7ecfdc-484b-48ad-b55d-f107d28517d9"
      },
      "execution_count": 9,
      "outputs": [
        {
          "output_type": "stream",
          "name": "stdout",
          "text": [
            "\n",
            "== Pitch Generated ==\n",
            "Write a startup pitch including the product value, problem it solves, customer target, and business model. Product: ['An automated investment advisor platform tailored for Gen Z users.'] Product: ['An automated investment advisor platform tailored for Gen Z users.']\n",
            "\n",
            "🧠 Pitch Persuasiveness Score: 90/100\n"
          ]
        }
      ]
    },
    {
      "cell_type": "markdown",
      "source": [
        "# 讀取並分析競品資料"
      ],
      "metadata": {
        "id": "lccwCuUPBkiK"
      }
    },
    {
      "cell_type": "code",
      "source": [
        "print(\"\\n== Competitor Analysis ==\")\n",
        "insights = analyze_competitors(\"example_data.csv\")\n",
        "for line in insights:\n",
        "    print(line)"
      ],
      "metadata": {
        "colab": {
          "base_uri": "https://localhost:8080/"
        },
        "id": "mogj2j3_BjvY",
        "outputId": "817a03d9-12ee-4a36-86ce-2a699d8c6fec"
      },
      "execution_count": 10,
      "outputs": [
        {
          "output_type": "stream",
          "name": "stdout",
          "text": [
            "\n",
            "== Competitor Analysis ==\n",
            "🔍 Notion focuses on \"All-in-one workspace for notes and tasks\"\n",
            "🔍 Evernote focuses on \"Clip and organize web content with ease\"\n"
          ]
        }
      ]
    }
  ],
  "metadata": {
    "language_info": {
      "name": "python"
    },
    "colab": {
      "provenance": []
    },
    "kernelspec": {
      "name": "python3",
      "display_name": "Python 3"
    }
  },
  "nbformat": 4,
  "nbformat_minor": 0
}